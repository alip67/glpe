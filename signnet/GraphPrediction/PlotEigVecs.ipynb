{
 "cells": [
  {
   "cell_type": "code",
   "execution_count": 1,
   "id": "f20a7ebf-3c20-4f28-b5e9-53856538b172",
   "metadata": {},
   "outputs": [
    {
     "name": "stderr",
     "output_type": "stream",
     "text": [
      "/home/math/maskey/anaconda3/envs/glpe/lib/python3.10/site-packages/tqdm/auto.py:22: TqdmWarning: IProgress not found. Please update jupyter and ipywidgets. See https://ipywidgets.readthedocs.io/en/stable/user_install.html\n",
      "  from .autonotebook import tqdm as notebook_tqdm\n"
     ]
    }
   ],
   "source": [
    "\n",
    "from torch_geometric.data import DataLoader\n",
    "import torch\n",
    "import torch.nn as nn\n",
    "import torch.nn.functional as F\n",
    "from torch.nn import Sequential, Linear, ReLU\n",
    "from torch_geometric.nn import (GINConv,global_add_pool,GATConv,ChebConv,GCNConv)\n",
    "from torch_geometric.datasets import ZINC\n",
    "from torch_geometric.utils import to_networkx, to_dense_adj\n",
    "import geoopt\n",
    "from timeit import default_timer as timer\n",
    "import numpy as np\n",
    "import matplotlib.pyplot as plt\n",
    "import scipy.io\n",
    "from torch_geometric.data import InMemoryDataset\n",
    "\n",
    "#from libs.spect_conv import SpectConv,ML3Layer\n",
    "#from libs.utils import Zinc12KDataset,SpectralDesign,get_n_params\n",
    "#from utils_1 import get_graph_props, make_2d_graph\n",
    "from torch_geometric.data import Data\n",
    "from typing import Callable, Dict, Iterable, List, Optional, Tuple, Union\n",
    "\n",
    "import torch\n",
    "from torch import Tensor\n",
    "\n",
    "from torch_geometric.data.collate import collate\n",
    "\n",
    "from tqdm import tqdm\n",
    "import argparse\n",
    "\n",
    "\n",
    "import os\n",
    "#os.environ[\"WANDB_MODE\"]=\"dryrun\""
   ]
  },
  {
   "cell_type": "code",
   "execution_count": 5,
   "id": "a35076ca-5ff1-47a5-9a0b-32d96e1f46a5",
   "metadata": {},
   "outputs": [],
   "source": [
    "train_graphs = torch.load('data/p-embeddings/zinc_train_emb4_p1.2.pt')"
   ]
  },
  {
   "cell_type": "code",
   "execution_count": 2,
   "id": "60e44532-6ea2-4f9e-a9f9-257c7bf86eb1",
   "metadata": {},
   "outputs": [],
   "source": [
    "def get_p_eigvals(X, F, p):\n",
    "    n = X.shape[0]\n",
    "    K = F.shape[1]\n",
    "    f = F\n",
    "    FFF = torch.norm(F, p,dim=0)\n",
    "    FFF = torch.pow(FFF,-1)\n",
    "    FFF.unsqueeze_(-1)\n",
    "    FFF.unsqueeze_(-1)\n",
    "    FFF.unsqueeze_(-1)\n",
    "    FFF = FFF.repeat(1,n,1,1)\n",
    "    FFF = torch.pow(FFF,p)\n",
    "\n",
    "    FF = f.repeat(1,n)\n",
    "    FF = FF.view(n,n,K)\n",
    "    FF = FF.transpose(2,0)\n",
    "\n",
    "    GG =FF.transpose(1,2)\n",
    "\n",
    "    KK = FF - GG \n",
    "    KKK = KK.unsqueeze(dim=-1)\n",
    "    KKK = torch.pow(torch.abs(KKK),p)\n",
    "\n",
    "    X = X.unsqueeze(dim=1)\n",
    "\n",
    "    KKK = KKK.type(torch.float64)\n",
    "    X = X.type(torch.float64)\n",
    "\n",
    "    LL = torch.matmul(X, KKK)\n",
    "    b = torch.matmul(LL.float(),FFF.float())\n",
    "    b = torch.sum(b, dim=1).squeeze_()\n",
    "    return b"
   ]
  },
  {
   "cell_type": "code",
   "execution_count": 3,
   "id": "58310561-e041-4014-8d07-bd8bf697d1f5",
   "metadata": {},
   "outputs": [],
   "source": [
    "transform = SpectralDesign(nmax=37,recfield=2,dv=2,nfreq=7) \n",
    "\n",
    "#dataset = Zinc12KDataset(root=\"graph-task/dataset/ZINC/\",pre_transform=transform)\n",
    "#dataset = Zinc12KDataset(root=\"graph-task/dataset/ZINC/\",pre_transform=transform) #For Ali\n",
    "\n",
    "########## commented this:\n",
    "dataset = Zinc12KDataset(root=\"dataset/ZINC/\",pre_transform=transform) #For Sohir"
   ]
  },
  {
   "cell_type": "code",
   "execution_count": 4,
   "id": "0a05041e-1d96-4ac5-855b-cdb7e529cc04",
   "metadata": {},
   "outputs": [],
   "source": [
    "from libs.utils import Model_RGD,training_loop1,get_orthonromal_eigvec"
   ]
  },
  {
   "cell_type": "code",
   "execution_count": 72,
   "id": "e4b50583-2241-4d23-8288-ab0589b764c6",
   "metadata": {},
   "outputs": [],
   "source": [
    "num_eigs = 5\n",
    "epochs = 1000\n",
    "device = 'cpu'\n",
    "p=1.2"
   ]
  },
  {
   "cell_type": "code",
   "execution_count": 73,
   "id": "54031515-6957-4a9a-b93a-f51abd0b97be",
   "metadata": {},
   "outputs": [],
   "source": [
    "from torch_geometric.utils.convert import to_networkx"
   ]
  },
  {
   "cell_type": "code",
   "execution_count": 74,
   "id": "55c8cc61-af4a-4adc-85b6-80e20dc0e853",
   "metadata": {},
   "outputs": [],
   "source": [
    "def training_loop1(model, optimizer, sched,W, epochs=100):\n",
    "    \"Training loop for torch model.\"\n",
    "    losses = []\n",
    "    values = []\n",
    "    best_loss_val = 1000\n",
    "    lowest_grad_val = 1000\n",
    "    model = model.train()\n",
    "    for i in range(epochs):\n",
    "        optimizer.zero_grad()\n",
    "        preds = model(W)\n",
    "        loss = preds\n",
    "        losses.append(loss)  \n",
    "        loss.backward()\n",
    "        optimizer.step()\n",
    "        if sched is not None:\n",
    "            sched.step()\n",
    "        values.append(model.weight.clone())\n",
    "    return losses, values"
   ]
  },
  {
   "cell_type": "code",
   "execution_count": 75,
   "id": "011cff0a-a721-4136-a886-b5bf1e2fb315",
   "metadata": {},
   "outputs": [],
   "source": [
    "class Model_RGD(nn.Module):\n",
    "    \"\"\"Custom Pytorch model for gradient optimization.\n",
    "    \"\"\"\n",
    "    def __init__(self, D, p, n, K, ball):\n",
    "        \n",
    "        super().__init__()\n",
    "        # initialize weights with eigenvectors\n",
    "        self.initeigv = D.clone() #normally calculate here from the adjacency matrix, just testing now\n",
    "        self.p = p\n",
    "        self.n= n\n",
    "        self.K = K\n",
    "\n",
    "        self.ball = ball\n",
    "        self.plane_shape = geoopt.utils.size2shape(n)\n",
    "        self.num_planes = K\n",
    "\n",
    "        # Create manifold parameters\n",
    "        self.weight = geoopt.ManifoldParameter(\n",
    "            self.initeigv.clone(), manifold=self.ball\n",
    "        \n",
    "        )\n",
    "        self.reset_parameters()\n",
    "\n",
    "    def reset_parameters(self):\n",
    "        # Every manifold has a convenience sample method, but you can use your own initializer\n",
    "        #Stiefel = nn.Parameter(self.initeigv.clone())#self.initeigv#.type(torch.float64).requires_grad_()\n",
    "        #Stiefel = nn.Parameter(self.initeigv.clone())#self.initeigv#.type(torch.float64).requires_grad_()\n",
    "        #self.weight = nn.Parameter(self.initeigv.clone())\n",
    "        pass\n",
    "\n",
    "    def forward(self, X):\n",
    "        \"\"\"Implement function to be optimised. In this case, an exponential decay\n",
    "        function (a + exp(-k * X) + b),\n",
    "        \"\"\"\n",
    "        #p=2\n",
    "        f = self.weight\n",
    "        FF = f.repeat(1,self.n)\n",
    "        FF = FF.reshape(self.n,self.n,self.K)\n",
    "        #FFF = torch.sum(torch.pow(torch.abs(f), 1/p))\n",
    "        FFF = torch.norm(self.weight, self.p,dim=0)\n",
    "        FFF = torch.pow(FFF,self.p)\n",
    "        FF = FF.transpose(2,0)\n",
    "        GG =FF.transpose(1,2)\n",
    "        A = X.unsqueeze(dim=1)\n",
    "        #WW = A.unsqueeze(dim=-1)\n",
    "        #Ww = WW.expand(-1,-1,-1,3)\n",
    "        KK = FF - GG #this must be changed, since the values must be taken in norm and so on\n",
    "        KKK = KK.unsqueeze(dim=-1)\n",
    "        KKK = torch.pow(torch.abs(KKK),self.p)\n",
    "        #print(A.size(), KKK.size())\n",
    "        KKK = KKK.type(torch.float64)\n",
    "        A = A.type(torch.float64)\n",
    "        LL = torch.matmul(A, KKK)\n",
    "        FFF = torch.pow(FFF,-1)\n",
    "        FFF.unsqueeze_(-1)\n",
    "        FFF.unsqueeze_(-1)\n",
    "        FFF.unsqueeze_(-1)\n",
    "        FFF = FFF.repeat(1,self.n,1,1)\n",
    "        b = torch.matmul(LL.float(),FFF)\n",
    "        b = torch.sum(b)\n",
    "        return b\n"
   ]
  },
  {
   "cell_type": "code",
   "execution_count": 76,
   "id": "12095966-88b1-495b-8a16-08a634cdb18f",
   "metadata": {},
   "outputs": [
    {
     "name": "stdout",
     "output_type": "stream",
     "text": [
      "1.9973438060842454  Second\n",
      "1.6412811591289937  Second\n",
      "1.6513288079295307  Second\n",
      "1.6443249718286097  Second\n",
      "1.6135440429206938  Second\n",
      "1.6315234638750553  Second\n",
      "1.6488915081135929  Second\n",
      "1.6634756098501384  Second\n"
     ]
    }
   ],
   "source": [
    "data = dataset[1]\n",
    "    #Preprocessing\n",
    "cora_adj = to_dense_adj(data.edge_index)\n",
    "cora_adj.squeeze_()\n",
    "\n",
    "A = cora_adj.numpy()\n",
    "D, L, L_inv, eigval,eigvec = get_graph_props(A,normalize_L='none')\n",
    "\n",
    "#We transform our eigenvectors into an orthonormalbasis such that it is in the Stiefel manifold\n",
    "\n",
    "#Just removed for L_2 LPE\n",
    "\n",
    "\n",
    "hi = get_orthonromal_eigvec(eigval,eigvec)\n",
    "\"\"\"\n",
    "\n",
    "gg = to_networkx(data)\n",
    "g = dgl.from_networkx(gg)\n",
    "tau=0\n",
    "A = g.adjacency_matrix_scipy(return_edge_ids=False).astype(float).toarray() + tau / g.number_of_nodes()\n",
    "D = np.diag((dgl.backend.asnumpy(g.in_degrees()).clip(1) + tau))\n",
    "L = D-A\n",
    "\n",
    "# Eigenvectors with PYTORCH\n",
    "# Reason: pytorch has the fct torch.linalg.eigh which directly gives an ONB.\n",
    "eigval, eigvec = torch.linalg.eigh(torch.tensor(L))\n",
    "eigval = eigval.numpy()\n",
    "eigvec = eigvec.numpy()\n",
    "\n",
    "idx = eigval.argsort() # increasing order\n",
    "eigval, eigvec = eigval[idx], np.real(eigvec[:,idx])\n",
    "hi = eigvec\n",
    "\"\"\"\n",
    "for i in range(1,9):\n",
    "    n = eigval.shape[0]\n",
    "    K = num_eigs\n",
    "    epochs = epochs\n",
    "\n",
    "    # instantiate model\n",
    "    p = 2- (i/10)\n",
    "\n",
    "    W = torch.tensor(A).float().to(device)\n",
    "    if i == 1:\n",
    "        F_ = torch.tensor(hi[:, :K]).float().to(device) #We can use previous outputs weight\n",
    "    else: F_ = m.weight.clone()\n",
    "    \n",
    "    m = Model_RGD(F_, p, n, K, ball = geoopt.EuclideanStiefelExact()).to(device)\n",
    "\n",
    "    # Instantiate optimizer\n",
    "    #opt = torch.optim.Adam(params=m.parameters(), lr=0.001, betas=(0.9, 0.999), eps=1e-08, weight_decay=0, amsgrad=False)\n",
    "    #optimizer = geoopt.optim.RiemannianSGD(m.parameters(), lr=1e-3)\n",
    "    optimizer = geoopt.optim.RiemannianAdam(m.parameters(), lr=1e-3)\n",
    "\n",
    "    #optimizer = geoopt.optim.RiemannianSGD(m.parameters(), lr=1e-2, momentum=0.9)\n",
    "\n",
    "    decayRate = 0.99\n",
    "    #my_lr_scheduler = torch.optim.lr_scheduler.LinearLR(optimizer=optimizer)#, gamma=decayRate)\n",
    "    #my_lr_scheduler = torch.optim.lr_scheduler.ReduceLROnPlateau(optimizer, mode='min', factor=0.1, patience=2, threshold=1, threshold_mode='rel', cooldown=0, min_lr=0, eps=1e-08, verbose=False)\n",
    "    #my_lr_scheduler = None\n",
    "    my_lr_scheduler = torch.optim.lr_scheduler.StepLR(optimizer, step_size=100, gamma=0.5)\n",
    "    #my_lr_scheduler = torch.optim.lr_scheduler.StepLR(optimizer, step_size=25, gamma=0.25)\n",
    "\n",
    "    \n",
    "    #Learn the 1-eigenvector. It is then given by m.weight\n",
    "    start = timer()\n",
    "    losses, values = training_loop1(m, optimizer,my_lr_scheduler,W, epochs)  \n",
    "    end = timer()\n",
    "    print(end - start, \" Second\")\n",
    "    m.to('cpu')"
   ]
  },
  {
   "cell_type": "markdown",
   "id": "f365895c-bc67-4ee8-b82e-90fcbc99d684",
   "metadata": {
    "tags": []
   },
   "source": [
    "data = dataset[1]\n",
    "    #Preprocessing\n",
    "cora_adj = to_dense_adj(data.edge_index)\n",
    "cora_adj.squeeze_()\n",
    "\n",
    "A = cora_adj.numpy()\n",
    "D, L, L_inv, eigval,eigvec = get_graph_props(A,normalize_L='none')\n",
    "\n",
    "#We transform our eigenvectors into an orthonormalbasis such that it is in the Stiefel manifold\n",
    "\n",
    "#Just removed for L_2 LPE\n",
    "\n",
    "\n",
    "hi = get_orthonromal_eigvec(eigval,eigvec)\n",
    "\"\"\"\n",
    "\n",
    "gg = to_networkx(data)\n",
    "g = dgl.from_networkx(gg)\n",
    "tau=0\n",
    "A = g.adjacency_matrix_scipy(return_edge_ids=False).astype(float).toarray() + tau / g.number_of_nodes()\n",
    "D = np.diag((dgl.backend.asnumpy(g.in_degrees()).clip(1) + tau))\n",
    "L = D-A\n",
    "\n",
    "# Eigenvectors with PYTORCH\n",
    "# Reason: pytorch has the fct torch.linalg.eigh which directly gives an ONB.\n",
    "eigval, eigvec = torch.linalg.eigh(torch.tensor(L))\n",
    "eigval = eigval.numpy()\n",
    "eigvec = eigvec.numpy()\n",
    "\n",
    "idx = eigval.argsort() # increasing order\n",
    "eigval, eigvec = eigval[idx], np.real(eigvec[:,idx])\n",
    "hi = eigvec\n",
    "\"\"\"\n",
    "\n",
    "n= eigval.shape[0]\n",
    "K = num_eigs\n",
    "epochs = epochs\n",
    "\n",
    "# instantiate model\n",
    "W = torch.tensor(A).float().to(device)\n",
    "F_ = torch.tensor(hi[:, :num_eigs]).float().to(device) #We can use previous outputs weight\n",
    "m2 = Model_RGD(F_, p, n, num_eigs, ball = geoopt.EuclideanStiefelExact()).to(device) #I think we should not use F_ at initizialization, rather as a forward input so that we can start different init, or just use the reset parameters differently\n",
    "\n",
    "# Instantiate optimizer\n",
    "#opt = torch.optim.Adam(params=m.parameters(), lr=0.001, betas=(0.9, 0.999), eps=1e-08, weight_decay=0, amsgrad=False)\n",
    "optimizer = geoopt.optim.RiemannianSGD(m.parameters(), lr=1e-2)\n",
    "#optimizer = geoopt.optim.RiemannianSGD(m.parameters(), lr=1e-2, momentum=0.9)\n",
    "\n",
    "decayRate = 0.99\n",
    "#my_lr_scheduler = torch.optim.lr_scheduler.LinearLR(optimizer=optimizer)#, gamma=decayRate)\n",
    "#my_lr_scheduler = torch.optim.lr_scheduler.ReduceLROnPlateau(optimizer, mode='min', factor=0.1, patience=2, threshold=1, threshold_mode='rel', cooldown=0, min_lr=0, eps=1e-08, verbose=False)\n",
    "my_lr_scheduler = None\n",
    "\n",
    "#Learn the 1-eigenvector. It is then given by m.weight\n",
    "start = timer()\n",
    "losses = training_loop1(m2, optimizer,my_lr_scheduler,W, epochs)  \n",
    "end = timer()\n",
    "print(end - start, \" Second\")\n",
    "\n",
    "m2.to('cpu')"
   ]
  },
  {
   "cell_type": "code",
   "execution_count": 77,
   "id": "adc426d4-1ad9-45a7-82b5-e27b7468e994",
   "metadata": {},
   "outputs": [],
   "source": [
    "from numba import jit"
   ]
  },
  {
   "cell_type": "code",
   "execution_count": 78,
   "id": "60f185d6-f553-499f-b6e6-2fbaf90cea89",
   "metadata": {},
   "outputs": [],
   "source": [
    "@jit(nopython=True) # Set \"nopython\" mode for best performance, equivalent to @njit\n",
    "def phi(x, p):\n",
    "  return np.abs(x)**(p-1)*np.sign(x)\n",
    "\n",
    "@jit(nopython=True) # Set \"nopython\" mode for best performance, equivalent to @njit\n",
    "def lp_norm(x, p):\n",
    "  #gives the p-th power of the lp-norm\n",
    "  y = np.sum(np.power(np.abs(x),p))\n",
    "  return y\n",
    "\n",
    "@jit(nopython=True) # Set \"nopython\" mode for best performance, equivalent to @njit\n",
    "def jacobian_grad(A, f, p):\n",
    "#A is the weight matrix and f denotes the current embedding of the nodes \n",
    "#(row is the node and column are the dimension of the embedding)\n",
    "#implements equation (22)\n",
    "  B = np.zeros((f.shape[0], f.shape[1]))\n",
    "  for i in range(0, f.shape[0]):\n",
    "    for k in range(0, f.shape[1]):\n",
    "      helper = [ A[i,j]*phi(f[i,k] - f[j,k],p)  for j in range(0, f.shape[0]) ]\n",
    "      grad = np.sum(np.array(helper))\n",
    "      grad = grad - phi(f[i,k],p)/lp_norm(f[:,k], p)\n",
    "      grad = 1/lp_norm(f[:,k], p) * grad\n",
    "      B[i,k] = grad\n",
    "  return B\n",
    "\n",
    "def calc_grad(A, f,p):\n",
    "#implements G in Algorithm 1\n",
    "  grad = jacobian_grad(A, f, p)\n",
    "  G = grad - np.matmul(np.matmul(f,np.transpose(grad)),f)\n",
    "  step_size = lp_norm(f, 1)/lp_norm(G,1) #for the adaptive stepsize\n",
    "  return G, step_size"
   ]
  },
  {
   "cell_type": "code",
   "execution_count": 79,
   "id": "118e9023-7d51-462a-bd8d-1ad649018843",
   "metadata": {},
   "outputs": [],
   "source": [
    "@jit(nopython=True) # Set \"nopython\" mode for best performance, equivalent to @njit\n",
    "def derivative(A, f, p):\n",
    "#A is the weight matrix and f denotes the current embedding of the nodes \n",
    "#(row is the node and column are the dimension of the embedding)\n",
    "#implements equation (22)\n",
    "  sum_rows = 0\n",
    "  for i in range(0,A.shape[0]):\n",
    "    sum_cols = 0\n",
    "    for j in range(0,A.shape[1]):\n",
    "      sum_cols = sum_cols + A[i,j]*(np.abs(f[i] - f[j])**p)/(2*lp_norm(f,p)+eps)\n",
    "    sum_rows = sum_rows + sum_cols\n",
    "  B = np.zeros(f.shape[0])\n",
    "  for m in range(f.shape[0]):\n",
    "    helper = [A[m,j]*phi(f[m] - f[j], p) for j in range(A.shape[0])]\n",
    "    grad = np.sum(np.array(helper))\n",
    "    B[m] = p/(lp_norm(f,p)+eps)*(grad- (phi(f[m],p)*sum_rows))\n",
    "  return B"
   ]
  },
  {
   "cell_type": "code",
   "execution_count": 80,
   "id": "a8ee5f26-a018-45d7-b60c-123b68f7344e",
   "metadata": {},
   "outputs": [],
   "source": [
    "@jit(nopython=True) # Set \"nopython\" mode for best performance, equivalent to @njit\n",
    "def derivative_all(A, F, p):\n",
    "#A is the weight matrix and f denotes the current embedding of the nodes \n",
    "#(row is the node and column are the dimension of the embedding)\n",
    "#implements equation (22)\n",
    "    norm = 0\n",
    "    for i in range(F.shape[1]):\n",
    "        norm = norm + np.linalg.norm(derivative(A, F[:,i], p))\n",
    "    return norm"
   ]
  },
  {
   "cell_type": "code",
   "execution_count": 82,
   "id": "aac44aa7-8e96-465f-96f1-5158331d0b84",
   "metadata": {},
   "outputs": [],
   "source": [
    "import networkx as nx\n",
    "import numpy as np\n",
    "\n",
    "from torch_geometric.utils import to_networkx\n",
    "import matplotlib as mpl\n",
    "import matplotlib.cm as cm\n",
    "\n",
    "\n",
    "def draw_molecule(g, colors, edge_mask=None, draw_edge_labels=False):\n",
    "\n",
    "    norm = mpl.colors.Normalize(vmin=-0.3, vmax=0.3)\n",
    "    cmap = cm.Spectral\n",
    "    m = cm.ScalarMappable(norm=norm, cmap=cmap)\n",
    "    #ax = plt.gca()\n",
    "    #ax.set_title('Random graph')\n",
    "    g = g.copy().to_undirected()\n",
    "    node_labels = {}\n",
    "    for u, data in g.nodes(data=True):\n",
    "        node_labels[u] = data['name']\n",
    "    pos = nx.planar_layout(g)\n",
    "    pos = nx.spring_layout(g, pos=pos)\n",
    "    if edge_mask is None:\n",
    "        edge_color = 'black'\n",
    "        widths = None\n",
    "    else:\n",
    "        edge_color = [edge_mask[(u, v)] for u, v in g.edges()]\n",
    "        widths = [x * 10 for x in edge_color]\n",
    "        \n",
    "    layout = nx.fruchterman_reingold_layout(g)\n",
    "    vmin = -0.3 #colors.min()\n",
    "    vmax = 0.3#colors.max()\n",
    "    cmap = plt.cm.Spectral\n",
    "  \n",
    "    colors = m.to_rgba(colors)\n",
    "    nx.draw(g, pos=pos, labels=node_labels, width=widths,\n",
    "            edge_color=edge_color, edge_cmap=plt.cm.Blues,\n",
    "            node_color=colors, cmap=cmap)\n",
    "    \"\"\"\n",
    "    if draw_edge_labels and edge_mask is not None:\n",
    "        edge_labels = {k: ('%.2f' % v) for k, v in edge_mask.items()}    \n",
    "        nx.draw_networkx_edge_labels(g, pos, edge_labels=edge_labels,\n",
    "                                    font_color='red')\n",
    "    \"\"\"\n",
    "    sm = plt.cm.ScalarMappable(cmap=cmap, norm=plt.Normalize(vmin=vmin, vmax=vmax))\n",
    "    sm.set_array([])\n",
    "    cbar = plt.colorbar(sm)\n",
    "    \n",
    "    #ax = plt.gca()\n",
    "    #ax.set_title(title)\n",
    "    \n",
    "    plt.show()\n",
    "\n",
    "\n",
    "def to_molecule(data):\n",
    "    ATOM_MAP = ['C', 'O', 'Cl', 'H', 'N', 'F',\n",
    "                'Br', 'S', 'P', 'I', 'Na', 'K', 'Li', 'Ca']\n",
    "    g = to_networkx(data, node_attrs=['x'])\n",
    "    for u, data in g.nodes(data=True):\n",
    "        data['name'] = ATOM_MAP[data['x']]#.index(1.0)]\n",
    "        del data['x']\n",
    "    return g"
   ]
  },
  {
   "cell_type": "code",
   "execution_count": 83,
   "id": "15253914-5726-4b4a-8ec9-07e2f8b653c7",
   "metadata": {},
   "outputs": [
    {
     "ename": "NameError",
     "evalue": "name 'epochs' is not defined",
     "output_type": "error",
     "traceback": [
      "\u001b[0;31m---------------------------------------------------------------------------\u001b[0m",
      "\u001b[0;31mNameError\u001b[0m                                 Traceback (most recent call last)",
      "Input \u001b[0;32mIn [83]\u001b[0m, in \u001b[0;36m<cell line: 3>\u001b[0;34m()\u001b[0m\n\u001b[1;32m      1\u001b[0m eps \u001b[38;5;241m=\u001b[39m \u001b[38;5;241m10e-8\u001b[39m\n\u001b[1;32m      2\u001b[0m hello \u001b[38;5;241m=\u001b[39m []\n\u001b[0;32m----> 3\u001b[0m \u001b[38;5;28;01mfor\u001b[39;00m i \u001b[38;5;129;01min\u001b[39;00m \u001b[38;5;28mrange\u001b[39m(\u001b[43mepochs\u001b[49m):\n\u001b[1;32m      4\u001b[0m   \u001b[38;5;66;03m#print(values[i][:,1].cpu().detach().numpy())\u001b[39;00m\n\u001b[1;32m      5\u001b[0m     \u001b[38;5;66;03m#hello.append( (derivative_all(A, values[i].cpu().detach().numpy(), p)))\u001b[39;00m\n\u001b[1;32m      6\u001b[0m     hello\u001b[38;5;241m.\u001b[39mappend( np\u001b[38;5;241m.\u001b[39mlinalg\u001b[38;5;241m.\u001b[39mnorm(derivative(A, values[i]\u001b[38;5;241m.\u001b[39mcpu()\u001b[38;5;241m.\u001b[39mdetach()\u001b[38;5;241m.\u001b[39mnumpy()[:,\u001b[38;5;241m1\u001b[39m], p)))\n\u001b[1;32m      8\u001b[0m \u001b[38;5;28;01mimport\u001b[39;00m \u001b[38;5;21;01mmatplotlib\u001b[39;00m\u001b[38;5;21;01m.\u001b[39;00m\u001b[38;5;21;01mpyplot\u001b[39;00m \u001b[38;5;28;01mas\u001b[39;00m \u001b[38;5;21;01mplt\u001b[39;00m\n",
      "\u001b[0;31mNameError\u001b[0m: name 'epochs' is not defined"
     ]
    }
   ],
   "source": [
    "eps = 10e-8\n",
    "hello = []\n",
    "for i in range(epochs):\n",
    "  #print(values[i][:,1].cpu().detach().numpy())\n",
    "    #hello.append( (derivative_all(A, values[i].cpu().detach().numpy(), p)))\n",
    "    hello.append( np.linalg.norm(derivative(A, values[i].cpu().detach().numpy()[:,1], p)))\n",
    "\n",
    "import matplotlib.pyplot as plt\n",
    "#loss = [x.to('cpu').detach().numpy() for x in losses]\n",
    "x = np.arange(1,epochs+1)\n",
    "y = np.array(hello)\n",
    "arg_g = y.argmin()"
   ]
  },
  {
   "cell_type": "code",
   "execution_count": 84,
   "id": "9451ed09-2c2c-47f5-9189-7d31b144df21",
   "metadata": {},
   "outputs": [
    {
     "ename": "NameError",
     "evalue": "name 'x' is not defined",
     "output_type": "error",
     "traceback": [
      "\u001b[0;31m---------------------------------------------------------------------------\u001b[0m",
      "\u001b[0;31mNameError\u001b[0m                                 Traceback (most recent call last)",
      "Input \u001b[0;32mIn [84]\u001b[0m, in \u001b[0;36m<cell line: 2>\u001b[0;34m()\u001b[0m\n\u001b[1;32m      1\u001b[0m \u001b[38;5;66;03m# Plotting the Graph\u001b[39;00m\n\u001b[0;32m----> 2\u001b[0m plt\u001b[38;5;241m.\u001b[39mplot(\u001b[43mx\u001b[49m, y)\n\u001b[1;32m      3\u001b[0m plt\u001b[38;5;241m.\u001b[39mtitle(\u001b[38;5;124mf\u001b[39m\u001b[38;5;124m\"\u001b[39m\u001b[38;5;124m$p = \u001b[39m\u001b[38;5;132;01m{\u001b[39;00mp\u001b[38;5;132;01m}\u001b[39;00m\u001b[38;5;124m$ Derivate per Epoch\u001b[39m\u001b[38;5;124m\"\u001b[39m)\n\u001b[1;32m      4\u001b[0m plt\u001b[38;5;241m.\u001b[39mxlabel(\u001b[38;5;124m\"\u001b[39m\u001b[38;5;124mepochs\u001b[39m\u001b[38;5;124m\"\u001b[39m)\n",
      "\u001b[0;31mNameError\u001b[0m: name 'x' is not defined"
     ]
    }
   ],
   "source": [
    "# Plotting the Graph\n",
    "plt.plot(x, y)\n",
    "plt.title(f\"$p = {p}$ Derivate per Epoch\")\n",
    "plt.xlabel(\"epochs\")\n",
    "plt.ylabel(\"derivative value\")\n",
    "plt.show()"
   ]
  },
  {
   "cell_type": "code",
   "execution_count": 84,
   "id": "340eaed2-778c-46b6-939e-1d02a85120bf",
   "metadata": {},
   "outputs": [
    {
     "data": {
      "image/png": "[encoded data removed]",
      "text/plain": [
       "<Figure size 640x480 with 1 Axes>"
      ]
     },
     "metadata": {},
     "output_type": "display_data"
    }
   ],
   "source": [
    "import matplotlib.pyplot as plt\n",
    "loss = [x.to('cpu').detach().numpy() for x in losses]\n",
    "x = np.arange(0,epochs)\n",
    "y = np.array(loss)\n",
    "arg_l = y.argmin()\n",
    "\n",
    "# Plotting the Graph\n",
    "plt.plot(x, y)\n",
    "plt.title(f\"$p = {p}$ Loss per Epoch\")\n",
    "plt.xlabel(\"epochs\")\n",
    "plt.ylabel(\"loss value\")\n",
    "plt.show()"
   ]
  },
  {
   "cell_type": "code",
   "execution_count": 10,
   "id": "d694b947-0636-4ab2-8de5-7748a523c317",
   "metadata": {},
   "outputs": [],
   "source": [
    "import dgl\n",
    "import torch_geometric"
   ]
  },
  {
   "cell_type": "code",
   "execution_count": 11,
   "id": "2fce8f1b-ed8d-41e2-8047-2be11823f99c",
   "metadata": {},
   "outputs": [],
   "source": [
    "graph = dgl.to_networkx(train_graphs[0])\n",
    "data = torch_geometric.utils.from_networkx(graph)\n",
    "train_graphs[0].ndata[\"feat\"]\n",
    "p_eigs = train_graphs[0].ndata[\"eigvec\"]"
   ]
  },
  {
   "cell_type": "code",
   "execution_count": 33,
   "id": "b4038952-ac05-4fe0-a96c-e1d7fee7ca36",
   "metadata": {},
   "outputs": [],
   "source": [
    "data = torch_geometric.utils.from_networkx(graph)"
   ]
  },
  {
   "cell_type": "code",
   "execution_count": 41,
   "id": "16b92d61-faa3-41cd-a31d-807b525324c2",
   "metadata": {},
   "outputs": [
    {
     "data": {
      "text/plain": [
       "tensor([0, 1, 0, 0, 0, 0, 0, 0, 0, 1, 0, 0, 2, 0, 0, 2, 5, 1, 1, 0, 0, 2, 0, 0,\n",
       "        0, 0, 0, 0, 0])"
      ]
     },
     "execution_count": 41,
     "metadata": {},
     "output_type": "execute_result"
    }
   ],
   "source": [
    "train_graphs[0].ndata[\"feat\"]"
   ]
  },
  {
   "cell_type": "code",
   "execution_count": 32,
   "id": "78f4ac84-74df-4803-bda4-072937e43e12",
   "metadata": {},
   "outputs": [],
   "source": [
    "p_eigs = train_graphs[0].ndata[\"eigvec\"]"
   ]
  },
  {
   "cell_type": "code",
   "execution_count": 85,
   "id": "d30c2f21-e658-4825-95b0-faa2cdc2dfcc",
   "metadata": {},
   "outputs": [],
   "source": [
    "p_eigs = values[arg_l][:,0:37]\n",
    "#Order the p-eigenvector ascending with repect to the eigenvalues\n",
    "p_eigvals = get_p_eigvals(W.to('cpu'), p_eigs, p)\n",
    "eigidx = torch.argsort(p_eigvals)\n",
    "p_eigvals = p_eigvals[eigidx]\n",
    "p_eigs_l = p_eigs[:, eigidx]"
   ]
  },
  {
   "cell_type": "code",
   "execution_count": 86,
   "id": "40bbc2ee-b4dc-48f2-ace2-d9e7f04640af",
   "metadata": {},
   "outputs": [],
   "source": [
    "p_eigs = values[arg_g][:,0:37]\n",
    "\n",
    "#Order the p-eigenvector ascending with repect to the eigenvalues\n",
    "p_eigvals = get_p_eigvals(W.to('cpu'), p_eigs, p)\n",
    "eigidx = torch.argsort(p_eigvals)\n",
    "p_eigvals = p_eigvals[eigidx]\n",
    "p_eigs_g = p_eigs[:, eigidx]"
   ]
  },
  {
   "cell_type": "code",
   "execution_count": 87,
   "id": "bfac4b9b-406d-46eb-b8fc-4b6f4fdcd2d3",
   "metadata": {},
   "outputs": [],
   "source": [
    "p_eigs = values[-1][:,0:37]\n",
    "\n",
    "#Order the p-eigenvector ascending with repect to the eigenvalues\n",
    "p_eigvals = get_p_eigvals(W.to('cpu'), p_eigs, p)\n",
    "eigidx = torch.argsort(p_eigvals)\n",
    "p_eigvals = p_eigvals[eigidx]\n",
    "p_eigs_f = p_eigs[:, eigidx]"
   ]
  },
  {
   "cell_type": "code",
   "execution_count": 95,
   "id": "984e573e-782e-4551-bab6-79412ed6d694",
   "metadata": {},
   "outputs": [],
   "source": [
    "i=4"
   ]
  },
  {
   "cell_type": "code",
   "execution_count": 96,
   "id": "5393bd3f-80ed-4951-b4aa-67fe5bd6c04b",
   "metadata": {},
   "outputs": [
    {
     "data": {
      "image/png": "[encoded data removed]",
      "text/plain": [
       "<Figure size 1000x500 with 2 Axes>"
      ]
     },
     "metadata": {},
     "output_type": "display_data"
    }
   ],
   "source": [
    "graph = dgl.to_networkx(train_graphs[i])\n",
    "data = torch_geometric.utils.from_networkx(graph)\n",
    "data.x = train_graphs[i].ndata[\"feat\"]\n",
    "p_eigs = train_graphs[i].ndata[\"eigvec\"]\n",
    "\n",
    "mol = to_molecule(data)\n",
    "plt.figure(figsize=(10, 5))\n",
    "draw_molecule(mol, p_eigs.detach().numpy()[:,0])"
   ]
  },
  {
   "cell_type": "code",
   "execution_count": 86,
   "id": "1f16b2c7-9bf1-4406-98c0-e96a98b55fb4",
   "metadata": {},
   "outputs": [
    {
     "ename": "NameError",
     "evalue": "name 'p_eigs_f' is not defined",
     "output_type": "error",
     "traceback": [
      "\u001b[0;31m---------------------------------------------------------------------------\u001b[0m",
      "\u001b[0;31mNameError\u001b[0m                                 Traceback (most recent call last)",
      "Input \u001b[0;32mIn [86]\u001b[0m, in \u001b[0;36m<cell line: 3>\u001b[0;34m()\u001b[0m\n\u001b[1;32m      1\u001b[0m mol \u001b[38;5;241m=\u001b[39m to_molecule(data)\n\u001b[1;32m      2\u001b[0m plt\u001b[38;5;241m.\u001b[39mfigure(figsize\u001b[38;5;241m=\u001b[39m(\u001b[38;5;241m10\u001b[39m, \u001b[38;5;241m5\u001b[39m))\n\u001b[0;32m----> 3\u001b[0m draw_molecule(mol, \u001b[43mp_eigs_f\u001b[49m\u001b[38;5;241m.\u001b[39mdetach()\u001b[38;5;241m.\u001b[39mnumpy()[:,\u001b[38;5;241m2\u001b[39m])\n",
      "\u001b[0;31mNameError\u001b[0m: name 'p_eigs_f' is not defined"
     ]
    },
    {
     "data": {
      "text/plain": [
       "<Figure size 1000x500 with 0 Axes>"
      ]
     },
     "metadata": {},
     "output_type": "display_data"
    }
   ],
   "source": [
    "mol = to_molecule(data)\n",
    "plt.figure(figsize=(10, 5))\n",
    "draw_molecule(mol, p_eigs_f.detach().numpy()[:,2])"
   ]
  },
  {
   "cell_type": "code",
   "execution_count": 91,
   "id": "7f0eabd0-ce85-4c22-a4e0-184223d52e0b",
   "metadata": {},
   "outputs": [
    {
     "data": {
      "image/png": "[encoded data removed]",
      "text/plain": [
       "<Figure size 1000x500 with 2 Axes>"
      ]
     },
     "metadata": {},
     "output_type": "display_data"
    }
   ],
   "source": [
    "mol = to_molecule(data)\n",
    "plt.figure(figsize=(10, 5))\n",
    "draw_molecule(mol, eigvec[:,2])"
   ]
  },
  {
   "cell_type": "code",
   "execution_count": null,
   "id": "040a9e2b-1b1f-4d49-a10e-ae61bf82cef9",
   "metadata": {},
   "outputs": [],
   "source": []
  },
  {
   "cell_type": "code",
   "execution_count": null,
   "id": "3bc93c1e-c177-4f9f-8efe-f2d7d6a64c07",
   "metadata": {},
   "outputs": [],
   "source": []
  },
  {
   "cell_type": "code",
   "execution_count": null,
   "id": "44e13529-a289-466e-9b68-166dc8a6472e",
   "metadata": {},
   "outputs": [],
   "source": []
  },
  {
   "cell_type": "code",
   "execution_count": null,
   "id": "4e838566-b90f-48c8-8ce2-6a078a3c0c6b",
   "metadata": {},
   "outputs": [],
   "source": []
  },
  {
   "cell_type": "code",
   "execution_count": null,
   "id": "3e6ca686-ba40-4a37-9ff4-16eb2a1d375d",
   "metadata": {},
   "outputs": [],
   "source": []
  }
 ],
 "metadata": {
  "kernelspec": {
   "display_name": "Python 3 (ipykernel)",
   "language": "python",
   "name": "python3"
  },
  "language_info": {
   "codemirror_mode": {
    "name": "ipython",
    "version": 3
   },
   "file_extension": ".py",
   "mimetype": "text/x-python",
   "name": "python",
   "nbconvert_exporter": "python",
   "pygments_lexer": "ipython3",
   "version": "3.10.4"
  }
 },
 "nbformat": 4,
 "nbformat_minor": 5
}
